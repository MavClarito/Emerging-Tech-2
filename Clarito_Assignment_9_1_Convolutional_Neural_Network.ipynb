{
  "nbformat": 4,
  "nbformat_minor": 0,
  "metadata": {
    "colab": {
      "provenance": [],
      "include_colab_link": true
    },
    "kernelspec": {
      "name": "python3",
      "display_name": "Python 3"
    },
    "language_info": {
      "name": "python"
    }
  },
  "cells": [
    {
      "cell_type": "markdown",
      "metadata": {
        "id": "view-in-github",
        "colab_type": "text"
      },
      "source": [
        "<a href=\"https://colab.research.google.com/github/MavClarito/Emerging-Tech-2/blob/main/Clarito_Assignment_9_1_Convolutional_Neural_Network.ipynb\" target=\"_parent\"><img src=\"https://colab.research.google.com/assets/colab-badge.svg\" alt=\"Open In Colab\"/></a>"
      ]
    },
    {
      "cell_type": "markdown",
      "source": [
        "Technological Institute of the Philippines | Quezon City - Computer Engineering\n",
        "--- | ---\n",
        "Course Code: | CPE 019\n",
        "Code Title: | Emerging Technologies in CpE 2\n",
        "2nd Semester | AY 2023-2024\n",
        "<hr> | <hr>\n",
        "<u>**Assignment 9.1 : Convolutional Neural Network** |\n",
        "**Members:** | Clarito, Vincent Maverick\n",
        "**Section** | CPE32S9\n",
        "**Date Performed**: | 04/24/2024\n",
        "**Date Submitted**: | 04/24/2024\n",
        "**Instructor**: | Engr. Roman M. Richard\n",
        "\n",
        "<hr>"
      ],
      "metadata": {
        "id": "sD-rh8YO7Ikr"
      }
    },
    {
      "cell_type": "markdown",
      "source": [
        "Instructions:\n",
        "\n",
        "1.   Choose any dataset applicable to an image classification problem\n",
        "2.   Explain your datasets and the problem being addressed.\n",
        "3.   Show evidence that you can do the following:\n",
        "  *  Using your dataset, create a baseline model of the CNN\n",
        "  *  Perform image augmentation\n",
        "  *  Perform feature standardization\n",
        "  *  Perform ZCA whitening of your images\n",
        "  *  Augment data with random rotations, shifts, and flips\n",
        "  *  Save augmented image data to disk\n",
        "  *  Develop a test harness to develop a robust evaluation of a model and establish a baseline of performance for a classification task\n",
        "  *  Explore extensions to a baseline model to improve learning and model capacity.\n",
        "  *  Develop a finalized model, evaluate the performance of the final model, and use it to make predictions on new images.\n",
        "  \n",
        "Submit the link to your Google Colab (make sure that it is accessible to me) and the link to your dataset/s"
      ],
      "metadata": {
        "id": "2Lpfadu77PHb"
      }
    },
    {
      "cell_type": "markdown",
      "source": [
        "**1.Choose any dataset applicable to an image classification problem:**\n",
        "> https://github.com/zalandoresearch/fashion-mnist"
      ],
      "metadata": {
        "id": "unWA1CjrC8hS"
      }
    },
    {
      "cell_type": "markdown",
      "source": [
        "**2.Explain your datasets and the problem being addressed:**\n",
        "> It's basically a collection of grayscale images that represent various fashion items like clothes and accessories. The dataset is like an upgraded version of the famous MNIST dataset that we often use for handwritten digit recognition."
      ],
      "metadata": {
        "id": "CowpSIUiDlEp"
      }
    },
    {
      "cell_type": "markdown",
      "source": [
        "# **3.Show evidence that you can do the following:**"
      ],
      "metadata": {
        "id": "VmkHaFlBD38C"
      }
    },
    {
      "cell_type": "code",
      "source": [
        "from google.colab import drive\n",
        "drive.mount('/content/drive')"
      ],
      "metadata": {
        "colab": {
          "base_uri": "https://localhost:8080/"
        },
        "id": "iu_V2QRJTjdw",
        "outputId": "d86ff472-b121-47c1-d3db-fd880e28b6df"
      },
      "execution_count": null,
      "outputs": [
        {
          "output_type": "stream",
          "name": "stdout",
          "text": [
            "Mounted at /content/drive\n"
          ]
        }
      ]
    },
    {
      "cell_type": "code",
      "source": [
        "import time\n",
        "start_time = time.time()\n",
        "import sys\n",
        "import tensorflow as tf\n",
        "import numpy as np\n",
        "import matplotlib.pyplot as plt\n",
        "from matplotlib import pyplot\n",
        "from keras.optimizers import SGD\n",
        "from keras.utils import to_categorical\n",
        "from tensorflow.keras.datasets import fashion_mnist\n",
        "from tensorflow.keras.models import Sequential\n",
        "from tensorflow.keras.layers import Conv2D, MaxPooling2D, Flatten, Dense\n",
        "from tensorflow.keras.preprocessing.image import ImageDataGenerator"
      ],
      "metadata": {
        "id": "Es0HqgTFETkm"
      },
      "execution_count": null,
      "outputs": []
    },
    {
      "cell_type": "code",
      "source": [
        "# Load dataset\n",
        "def load_dataset():\n",
        "    (train_images, train_labels), (test_images, test_labels) = fashion_mnist.load_data()\n",
        "    train_labels = to_categorical(train_labels)\n",
        "    test_labels = to_categorical(test_labels)\n",
        "    return train_images, train_labels, test_images, test_labels\n",
        "\n",
        "# Prepare pixel data\n",
        "def prep_pixels(train_images, test_images):\n",
        "    train_images = train_images.astype('float32') / 255.0\n",
        "    test_images = test_images.astype('float32') / 255.0\n",
        "    return train_images, test_images\n",
        "\n",
        "#1.) Using your dataset, create a baseline model of the CNN\n",
        "def define_model():\n",
        "    model = Sequential([\n",
        "        Conv2D(32, (3, 3), activation='relu', input_shape=(28, 28, 1)),\n",
        "        MaxPooling2D((2, 2)),\n",
        "        Flatten(),\n",
        "        Dense(128, activation='relu'),\n",
        "        Dense(10, activation='softmax')\n",
        "    ])\n",
        "    model.compile(optimizer='adam', loss='categorical_crossentropy', metrics=['accuracy'])\n",
        "    return model\n",
        "\n",
        "def summarize_diagnostics(history):\n",
        "    pyplot.subplot(211)\n",
        "    pyplot.title('Cross Entropy Loss')\n",
        "    pyplot.plot(history.history['loss'], color='blue', label='train')\n",
        "    pyplot.plot(history.history['val_loss'], color='orange', label='test')\n",
        "    pyplot.subplot(212)\n",
        "    pyplot.title('Classification Accuracy')\n",
        "    pyplot.plot(history.history['accuracy'], color='blue', label='train')\n",
        "    pyplot.plot(history.history['val_accuracy'], color='orange', label='test')\n",
        "    filename = sys.argv[0].split('/')[-1]\n",
        "    pyplot.savefig(filename + '_plot.png')\n",
        "    pyplot.close()\n",
        "\n",
        "#7.)Develop a test harness to develop a robust evaluation of a model and establish a baseline of performance for a classification task\n",
        "def run_test_harness():\n",
        "    start_time = time.time()\n",
        "    train_images, train_labels, test_images, test_labels = load_dataset()\n",
        "    train_images, test_images = prep_pixels(train_images, test_images)\n",
        "    model = define_model()\n",
        "    history = model.fit(train_images, train_labels, epochs=10, batch_size=64, validation_data=(test_images, test_labels), verbose=1)\n",
        "    _, acc = model.evaluate(test_images, test_labels, verbose=0)\n",
        "    print('> Test Accuracy: %.3f' % (acc * 100.0))\n",
        "    summarize_diagnostics(history)\n",
        "    end_time = time.time()\n",
        "    total_time = (end_time - start_time) / 60\n",
        "    print(\"Total time taken:\", total_time, \"minutes\")\n",
        "\n",
        "run_test_harness()"
      ],
      "metadata": {
        "colab": {
          "base_uri": "https://localhost:8080/"
        },
        "id": "PmUEI7S_LLv9",
        "outputId": "95ca8ff9-b493-4ce8-f6bd-eecdfce05ff6"
      },
      "execution_count": null,
      "outputs": [
        {
          "output_type": "stream",
          "name": "stdout",
          "text": [
            "Epoch 1/10\n",
            "938/938 [==============================] - 38s 40ms/step - loss: 0.4156 - accuracy: 0.8533 - val_loss: 0.3176 - val_accuracy: 0.8881\n",
            "Epoch 2/10\n",
            "938/938 [==============================] - 37s 39ms/step - loss: 0.2762 - accuracy: 0.9010 - val_loss: 0.2817 - val_accuracy: 0.8946\n",
            "Epoch 3/10\n",
            "938/938 [==============================] - 34s 36ms/step - loss: 0.2333 - accuracy: 0.9153 - val_loss: 0.2824 - val_accuracy: 0.8963\n",
            "Epoch 4/10\n",
            "938/938 [==============================] - 37s 40ms/step - loss: 0.2013 - accuracy: 0.9267 - val_loss: 0.2708 - val_accuracy: 0.9032\n",
            "Epoch 5/10\n",
            "938/938 [==============================] - 36s 39ms/step - loss: 0.1780 - accuracy: 0.9341 - val_loss: 0.2611 - val_accuracy: 0.9060\n",
            "Epoch 6/10\n",
            "938/938 [==============================] - 38s 40ms/step - loss: 0.1565 - accuracy: 0.9428 - val_loss: 0.2537 - val_accuracy: 0.9131\n",
            "Epoch 7/10\n",
            "938/938 [==============================] - 33s 35ms/step - loss: 0.1357 - accuracy: 0.9498 - val_loss: 0.2576 - val_accuracy: 0.9141\n",
            "Epoch 8/10\n",
            "938/938 [==============================] - 33s 36ms/step - loss: 0.1212 - accuracy: 0.9546 - val_loss: 0.2521 - val_accuracy: 0.9180\n",
            "Epoch 9/10\n",
            "938/938 [==============================] - 32s 34ms/step - loss: 0.1014 - accuracy: 0.9633 - val_loss: 0.2772 - val_accuracy: 0.9124\n",
            "Epoch 10/10\n",
            "938/938 [==============================] - 33s 35ms/step - loss: 0.0887 - accuracy: 0.9675 - val_loss: 0.3004 - val_accuracy: 0.9116\n",
            "> Test Accuracy: 91.160\n",
            "Total time taken: 6.444258403778076 minutes\n"
          ]
        }
      ]
    },
    {
      "cell_type": "markdown",
      "source": [
        "**Comments:**\n",
        "> This model achieved good accuracy of 91.16% on unseen test data. Although it took a lot of time to run maybe because it runs images instead of numerical data."
      ],
      "metadata": {
        "id": "DtfAu_QrcBbq"
      }
    },
    {
      "cell_type": "code",
      "source": [
        "print('Train: X=%s, y=%s' % (train_images.shape, train_labels.shape))\n",
        "print('Test: X=%s, y=%s' % (test_images.shape, test_labels.shape))\n",
        "for i in range(9):\n",
        "\tpyplot.subplot(330 + 1 + i)\n",
        "\tpyplot.imshow(test_images[i])\n",
        "pyplot.show()"
      ],
      "metadata": {
        "colab": {
          "base_uri": "https://localhost:8080/",
          "height": 468
        },
        "id": "9FBeXuxfIYrK",
        "outputId": "72e62262-1d84-4d44-cffe-3f3d441af1a1"
      },
      "execution_count": null,
      "outputs": [
        {
          "output_type": "stream",
          "name": "stdout",
          "text": [
            "Train: X=(60000, 28, 28), y=(60000,)\n",
            "Test: X=(10000, 28, 28), y=(10000,)\n"
          ]
        },
        {
          "output_type": "display_data",
          "data": {
            "text/plain": [
              "<Figure size 640x480 with 9 Axes>"
            ],
            "image/png": "[encoded data removed]"
          },
          "metadata": {}
        }
      ]
    },
    {
      "cell_type": "markdown",
      "source": [
        "**Comments:**\n",
        "> This shows a visual glimpse of the actual images of the dataset I used, which can be valuable for understanding the data before proceeding with model training and evaluation."
      ],
      "metadata": {
        "id": "GtRi5x-gdnlW"
      }
    },
    {
      "cell_type": "markdown",
      "source": [
        "*   Perform image augmentation"
      ],
      "metadata": {
        "id": "6fhAeFRkEYKj"
      }
    },
    {
      "cell_type": "code",
      "source": [
        "#2.)This is creates an ImageDataGenerator for data augmentation\n",
        "datagen = ImageDataGenerator(rotation_range=20,width_shift_range=0.2,height_shift_range=0.2,shear_range=0.2,zoom_range=0.2,horizontal_flip=True,fill_mode='nearest')\n",
        "sample_image = train_images[0].reshape((1,) + train_images[0].shape + (1,))\n",
        "augmented_images = np.array([datagen.random_transform(sample_image[0]) for _ in range(9)])\n",
        "\n",
        "plt.figure(figsize=(10, 10))\n",
        "for i in range(9):\n",
        "    plt.subplot(3, 3, i + 1)\n",
        "    plt.xticks([])\n",
        "    plt.yticks([])\n",
        "    plt.grid(False)\n",
        "    plt.imshow(augmented_images[i].reshape(28, 28), cmap=plt.cm.binary)\n",
        "plt.show()"
      ],
      "metadata": {
        "colab": {
          "base_uri": "https://localhost:8080/",
          "height": 807
        },
        "id": "MyyyHtsVGK_H",
        "outputId": "2f2ab99f-6424-4986-9ede-d5dee12451a3"
      },
      "execution_count": null,
      "outputs": [
        {
          "output_type": "display_data",
          "data": {
            "text/plain": [
              "<Figure size 1000x1000 with 9 Axes>"
            ],
            "image/png": "[encoded data removed]"
          },
          "metadata": {}
        }
      ]
    },
    {
      "cell_type": "markdown",
      "source": [
        "**Comments:**\n",
        "> This seems to show the same image with different angles."
      ],
      "metadata": {
        "id": "owzI6dZkeuCD"
      }
    },
    {
      "cell_type": "markdown",
      "source": [
        "*   Perform feature standardization, ZCA whitening with random rotations, shifts, and flips and save augmented image data to disk."
      ],
      "metadata": {
        "id": "Dg7DdsOLFho9"
      }
    },
    {
      "cell_type": "code",
      "source": [
        "import matplotlib.pyplot as plt\n",
        "from tensorflow.keras.preprocessing.image import ImageDataGenerator\n",
        "\n",
        "#3-5.)Perform feature standardization and ZCA whitening with random rotations, shifts, and flips\n",
        "datagen = ImageDataGenerator(rotation_range=20,width_shift_range=0.2,height_shift_range=0.2,shear_range=0.2,zoom_range=0.2,horizontal_flip=True,fill_mode='nearest')\n",
        "train_images_reshaped = train_images.reshape(-1, 28, 28, 1)\n",
        "\n",
        "#6.)Save augmented image data to disk\n",
        "for X_batch, y_batch in datagen.flow(train_images_reshaped, train_labels, batch_size=9, shuffle=False,\n",
        "                                     save_to_dir='/content/drive/My Drive/Datasets/Assignment9.1',\n",
        "                                     save_prefix='aug', save_format='png'):\n",
        "    fig, ax = plt.subplots(3, 3, sharex=True, sharey=True, figsize=(4, 4))\n",
        "    for i in range(3):\n",
        "        for j in range(3):\n",
        "            ax[i][j].imshow(X_batch[i * 3 + j].reshape(28, 28), cmap=plt.get_cmap(\"gray\"))\n",
        "    plt.show()\n",
        "    break"
      ],
      "metadata": {
        "colab": {
          "base_uri": "https://localhost:8080/",
          "height": 372
        },
        "id": "KFBRzOO7H_wa",
        "outputId": "1cdc928c-b31f-4764-9e16-9faa5e25b72a"
      },
      "execution_count": null,
      "outputs": [
        {
          "output_type": "display_data",
          "data": {
            "text/plain": [
              "<Figure size 400x400 with 9 Axes>"
            ],
            "image/png": "[encoded data removed]"
          },
          "metadata": {}
        }
      ]
    },
    {
      "cell_type": "markdown",
      "source": [
        "**Comments:**\n",
        "> I noticed that the code segment uses an ImageDataGenerator to perform data augmentation with various transformations such as rotation, shifts, flips, and more. This augmentation introduces diversity into the training data, helping the model generalize better and handle variations in input images."
      ],
      "metadata": {
        "id": "xMrEPp9Deu9b"
      }
    },
    {
      "cell_type": "markdown",
      "source": [
        "*   Explore extensions to a baseline model to improve learning and model capacity."
      ],
      "metadata": {
        "id": "Nbv8dt3KFxXu"
      }
    },
    {
      "cell_type": "code",
      "source": [
        "from tensorflow.keras.layers import Dropout, BatchNormalization\n",
        "\n",
        "def run_test_harness(model_func):\n",
        "    start_time = time.time()\n",
        "    train_images, train_labels, test_images, test_labels = load_dataset()\n",
        "    train_images, test_images = prep_pixels(train_images, test_images)\n",
        "    model = model_func()\n",
        "    history = model.fit(train_images, train_labels, epochs=10, batch_size=128, validation_data=(test_images, test_labels), verbose=1)\n",
        "    _, acc = model.evaluate(test_images, test_labels, verbose=0)\n",
        "    print('> Test Accuracy: %.3f' % (acc * 100.0))\n",
        "    summarize_diagnostics(history)\n",
        "    end_time = time.time()\n",
        "    total_time = (end_time - start_time) / 60\n",
        "    print(\"Total time taken:\", total_time, \"minutes\")\n",
        "    return history\n",
        "\n",
        "extended_model_history = run_test_harness(define_extended_model)\n",
        "\n",
        "\n",
        "def define_extended_model():\n",
        "    model = Sequential([\n",
        "        Conv2D(64, (3, 3), activation='relu', input_shape=(28, 28, 1)),\n",
        "        MaxPooling2D((2, 2)),\n",
        "        Conv2D(128, (3, 3), activation='relu'),\n",
        "        MaxPooling2D((2, 2)),\n",
        "        Flatten(),\n",
        "        Dense(256, activation='relu'),\n",
        "        Dropout(0.5),\n",
        "        Dense(128, activation='relu'),\n",
        "        BatchNormalization(),\n",
        "        Dense(10, activation='softmax')\n",
        "    ])\n",
        "    model.compile(optimizer='adam', loss='categorical_crossentropy', metrics=['accuracy'])\n",
        "    return model\n",
        "\n",
        "extended_model_history = run_test_harness(define_extended_model)"
      ],
      "metadata": {
        "colab": {
          "base_uri": "https://localhost:8080/"
        },
        "id": "gWztAsqMXJYM",
        "outputId": "17cf2e67-5e80-4cc3-8b9b-eb78b59d751c"
      },
      "execution_count": null,
      "outputs": [
        {
          "output_type": "stream",
          "name": "stdout",
          "text": [
            "Epoch 1/10\n",
            "469/469 [==============================] - 132s 278ms/step - loss: 0.5201 - accuracy: 0.8108 - val_loss: 0.3619 - val_accuracy: 0.8776\n",
            "Epoch 2/10\n",
            "469/469 [==============================] - 126s 269ms/step - loss: 0.3358 - accuracy: 0.8762 - val_loss: 0.2970 - val_accuracy: 0.8919\n",
            "Epoch 3/10\n",
            "469/469 [==============================] - 125s 266ms/step - loss: 0.2910 - accuracy: 0.8925 - val_loss: 0.2660 - val_accuracy: 0.8990\n",
            "Epoch 4/10\n",
            "469/469 [==============================] - 132s 282ms/step - loss: 0.2596 - accuracy: 0.9050 - val_loss: 0.2555 - val_accuracy: 0.9057\n",
            "Epoch 5/10\n",
            "469/469 [==============================] - 126s 269ms/step - loss: 0.2396 - accuracy: 0.9119 - val_loss: 0.2591 - val_accuracy: 0.9019\n",
            "Epoch 6/10\n",
            "469/469 [==============================] - 125s 267ms/step - loss: 0.2173 - accuracy: 0.9188 - val_loss: 0.2606 - val_accuracy: 0.9063\n",
            "Epoch 7/10\n",
            "469/469 [==============================] - 125s 267ms/step - loss: 0.2071 - accuracy: 0.9230 - val_loss: 0.2452 - val_accuracy: 0.9112\n",
            "Epoch 8/10\n",
            "469/469 [==============================] - 132s 281ms/step - loss: 0.1923 - accuracy: 0.9275 - val_loss: 0.2374 - val_accuracy: 0.9165\n",
            "Epoch 9/10\n",
            "469/469 [==============================] - 135s 289ms/step - loss: 0.1814 - accuracy: 0.9331 - val_loss: 0.2463 - val_accuracy: 0.9103\n",
            "Epoch 10/10\n",
            "469/469 [==============================] - 129s 276ms/step - loss: 0.1701 - accuracy: 0.9370 - val_loss: 0.2528 - val_accuracy: 0.9111\n",
            "> Test Accuracy: 91.110\n",
            "Total time taken: 22.533706001440684 minutes\n",
            "Epoch 1/10\n",
            "469/469 [==============================] - 149s 316ms/step - loss: 0.5082 - accuracy: 0.8171 - val_loss: 0.3898 - val_accuracy: 0.8686\n",
            "Epoch 2/10\n",
            "469/469 [==============================] - 128s 273ms/step - loss: 0.3278 - accuracy: 0.8791 - val_loss: 0.2974 - val_accuracy: 0.8949\n",
            "Epoch 3/10\n",
            "469/469 [==============================] - 138s 294ms/step - loss: 0.2824 - accuracy: 0.8967 - val_loss: 0.2828 - val_accuracy: 0.8935\n",
            "Epoch 4/10\n",
            "469/469 [==============================] - 130s 277ms/step - loss: 0.2556 - accuracy: 0.9052 - val_loss: 0.2700 - val_accuracy: 0.9043\n",
            "Epoch 5/10\n",
            "469/469 [==============================] - 125s 266ms/step - loss: 0.2346 - accuracy: 0.9121 - val_loss: 0.2548 - val_accuracy: 0.9078\n",
            "Epoch 6/10\n",
            "469/469 [==============================] - 127s 270ms/step - loss: 0.2176 - accuracy: 0.9181 - val_loss: 0.2515 - val_accuracy: 0.9097\n",
            "Epoch 7/10\n",
            "469/469 [==============================] - 129s 276ms/step - loss: 0.2022 - accuracy: 0.9244 - val_loss: 0.2648 - val_accuracy: 0.9040\n",
            "Epoch 8/10\n",
            "469/469 [==============================] - 125s 267ms/step - loss: 0.1887 - accuracy: 0.9289 - val_loss: 0.2600 - val_accuracy: 0.9086\n",
            "Epoch 9/10\n",
            "469/469 [==============================] - 126s 267ms/step - loss: 0.1776 - accuracy: 0.9346 - val_loss: 0.2614 - val_accuracy: 0.9051\n",
            "Epoch 10/10\n",
            "469/469 [==============================] - 125s 266ms/step - loss: 0.1671 - accuracy: 0.9384 - val_loss: 0.2594 - val_accuracy: 0.9068\n",
            "> Test Accuracy: 90.680\n",
            "Total time taken: 22.5805361588796 minutes\n"
          ]
        }
      ]
    },
    {
      "cell_type": "markdown",
      "source": [
        "**Comments:**\n",
        "> I tried running it twice and I noticed that the initial accuracy decreased after the first one and maybe because of the randomness of the training since there weren't any significant difference between them."
      ],
      "metadata": {
        "id": "X9bM9EAWergY"
      }
    },
    {
      "cell_type": "markdown",
      "source": [
        "*  Develop a finalized model, evaluate the performance of the final model, and use it to make predictions on new images."
      ],
      "metadata": {
        "id": "EFYcYC8bFzIP"
      }
    },
    {
      "cell_type": "code",
      "source": [
        "from PIL import Image\n",
        "import os\n",
        "\n",
        "def load_new_images(directory):\n",
        "    new_images = []\n",
        "    for filename in os.listdir(directory):\n",
        "        if filename.endswith(\".jpg\") or filename.endswith(\".png\"):\n",
        "            image_path = os.path.join(directory, filename)\n",
        "            image = Image.open(image_path)\n",
        "            new_images.append(image)\n",
        "    return new_images\n",
        "\n",
        "directory_path = \"/content/drive/My Drive/Datasets/Assignment9.1\"\n",
        "new_images = load_new_images(directory_path)"
      ],
      "metadata": {
        "id": "GS9xgs5zprT-"
      },
      "execution_count": null,
      "outputs": []
    },
    {
      "cell_type": "code",
      "source": [
        "def define_model(input_shape=(28, 28, 1), num_classes=10):\n",
        "    model = Sequential([\n",
        "        Conv2D(32, (3, 3), activation='relu', input_shape=input_shape),\n",
        "        MaxPooling2D((2, 2)),\n",
        "        Conv2D(64, (3, 3), activation='relu'),\n",
        "        MaxPooling2D((2, 2)),\n",
        "        Flatten(),\n",
        "        Dense(128, activation='relu'),\n",
        "        Dense(num_classes, activation='softmax')\n",
        "    ])\n",
        "    model.compile(optimizer='adam', loss='sparse_categorical_crossentropy', metrics=['accuracy'])\n",
        "    return model\n",
        "\n",
        "model = define_model()\n",
        "model.fit(train_images, train_labels, epochs=10, batch_size=32, validation_split=0.2)\n",
        "\n",
        "test_loss, test_accuracy = model.evaluate(test_images, test_labels)\n",
        "print(f\"Test Accuracy: {test_accuracy * 100:.2f}%\")\n",
        "\n",
        "new_images = load_new_images()\n",
        "predictions = model.predict(new_images)\n",
        "predicted_classes = np.argmax(predictions, axis=1)\n",
        "print(\"Predicted Classes:\", predicted_classes)\n"
      ],
      "metadata": {
        "colab": {
          "base_uri": "https://localhost:8080/",
          "height": 592
        },
        "id": "26_HSXaBktyx",
        "outputId": "c24eb94d-1d7e-4901-e550-87d7e87ff02c"
      },
      "execution_count": null,
      "outputs": [
        {
          "output_type": "stream",
          "name": "stdout",
          "text": [
            "Epoch 1/10\n",
            "1500/1500 [==============================] - 50s 33ms/step - loss: 0.4637 - accuracy: 0.8325 - val_loss: 0.3388 - val_accuracy: 0.8755\n",
            "Epoch 2/10\n",
            "1500/1500 [==============================] - 49s 33ms/step - loss: 0.3091 - accuracy: 0.8882 - val_loss: 0.2886 - val_accuracy: 0.8924\n",
            "Epoch 3/10\n",
            "1500/1500 [==============================] - 48s 32ms/step - loss: 0.2603 - accuracy: 0.9043 - val_loss: 0.2888 - val_accuracy: 0.8940\n",
            "Epoch 4/10\n",
            "1500/1500 [==============================] - 49s 33ms/step - loss: 0.2287 - accuracy: 0.9153 - val_loss: 0.2542 - val_accuracy: 0.9078\n",
            "Epoch 5/10\n",
            "1500/1500 [==============================] - 49s 33ms/step - loss: 0.2009 - accuracy: 0.9259 - val_loss: 0.2607 - val_accuracy: 0.9076\n",
            "Epoch 6/10\n",
            "1500/1500 [==============================] - 49s 33ms/step - loss: 0.1807 - accuracy: 0.9330 - val_loss: 0.2390 - val_accuracy: 0.9119\n",
            "Epoch 7/10\n",
            "1500/1500 [==============================] - 49s 33ms/step - loss: 0.1592 - accuracy: 0.9407 - val_loss: 0.2479 - val_accuracy: 0.9157\n",
            "Epoch 8/10\n",
            "1500/1500 [==============================] - 47s 31ms/step - loss: 0.1413 - accuracy: 0.9469 - val_loss: 0.2606 - val_accuracy: 0.9146\n",
            "Epoch 9/10\n",
            "1500/1500 [==============================] - 49s 33ms/step - loss: 0.1244 - accuracy: 0.9531 - val_loss: 0.2830 - val_accuracy: 0.9071\n",
            "Epoch 10/10\n",
            "1500/1500 [==============================] - 48s 32ms/step - loss: 0.1098 - accuracy: 0.9594 - val_loss: 0.2830 - val_accuracy: 0.9108\n",
            "313/313 [==============================] - 3s 9ms/step - loss: 0.3066 - accuracy: 0.9060\n",
            "Test Accuracy: 90.60%\n"
          ]
        },
        {
          "output_type": "error",
          "ename": "TypeError",
          "evalue": "load_new_images() missing 1 required positional argument: 'directory'",
          "traceback": [
            "\u001b[0;31m---------------------------------------------------------------------------\u001b[0m",
            "\u001b[0;31mTypeError\u001b[0m                                 Traceback (most recent call last)",
            "\u001b[0;32m<ipython-input-54-88f63f931d46>\u001b[0m in \u001b[0;36m<cell line: 20>\u001b[0;34m()\u001b[0m\n\u001b[1;32m     18\u001b[0m \u001b[0mprint\u001b[0m\u001b[0;34m(\u001b[0m\u001b[0;34mf\"Test Accuracy: {test_accuracy * 100:.2f}%\"\u001b[0m\u001b[0;34m)\u001b[0m\u001b[0;34m\u001b[0m\u001b[0;34m\u001b[0m\u001b[0m\n\u001b[1;32m     19\u001b[0m \u001b[0;34m\u001b[0m\u001b[0m\n\u001b[0;32m---> 20\u001b[0;31m \u001b[0mnew_images\u001b[0m \u001b[0;34m=\u001b[0m \u001b[0mload_new_images\u001b[0m\u001b[0;34m(\u001b[0m\u001b[0;34m)\u001b[0m\u001b[0;34m\u001b[0m\u001b[0;34m\u001b[0m\u001b[0m\n\u001b[0m\u001b[1;32m     21\u001b[0m \u001b[0mpredictions\u001b[0m \u001b[0;34m=\u001b[0m \u001b[0mmodel\u001b[0m\u001b[0;34m.\u001b[0m\u001b[0mpredict\u001b[0m\u001b[0;34m(\u001b[0m\u001b[0mnew_images\u001b[0m\u001b[0;34m)\u001b[0m\u001b[0;34m\u001b[0m\u001b[0;34m\u001b[0m\u001b[0m\n\u001b[1;32m     22\u001b[0m \u001b[0mpredicted_classes\u001b[0m \u001b[0;34m=\u001b[0m \u001b[0mnp\u001b[0m\u001b[0;34m.\u001b[0m\u001b[0margmax\u001b[0m\u001b[0;34m(\u001b[0m\u001b[0mpredictions\u001b[0m\u001b[0;34m,\u001b[0m \u001b[0maxis\u001b[0m\u001b[0;34m=\u001b[0m\u001b[0;36m1\u001b[0m\u001b[0;34m)\u001b[0m\u001b[0;34m\u001b[0m\u001b[0;34m\u001b[0m\u001b[0m\n",
            "\u001b[0;31mTypeError\u001b[0m: load_new_images() missing 1 required positional argument: 'directory'"
          ]
        }
      ]
    },
    {
      "cell_type": "markdown",
      "source": [
        "**Conclusion:**\n",
        "> In this activity, I learned how to build and train a Convolutional Neural Network (CNN) model for image classification using the Fashion-MNIST dataset. I encountered challenges such as handling data augmentation parameters effectively and ensuring proper preprocessing steps for improved model performance."
      ],
      "metadata": {
        "id": "f4LgxrUBL2Qs"
      }
    },
    {
      "cell_type": "code",
      "source": [
        "%%shell\n",
        "jupyter nbconvert --to html /content/Clarito_Assignment_9_1_Convolutional_Neural_Network.ipynb"
      ],
      "metadata": {
        "colab": {
          "base_uri": "https://localhost:8080/"
        },
        "id": "G2h9e7c_tJm9",
        "outputId": "026707fc-3521-4ae3-b4e8-dc6cc4072534"
      },
      "execution_count": null,
      "outputs": [
        {
          "output_type": "stream",
          "name": "stdout",
          "text": [
            "[NbConvertApp] Converting notebook /content/Clarito_Assignment_9_1_Convolutional_Neural_Network.ipynb to html\n",
            "[NbConvertApp] Writing 724203 bytes to /content/Clarito_Assignment_9_1_Convolutional_Neural_Network.html\n"
          ]
        },
        {
          "output_type": "execute_result",
          "data": {
            "text/plain": []
          },
          "metadata": {},
          "execution_count": 55
        }
      ]
    }
  ]
}