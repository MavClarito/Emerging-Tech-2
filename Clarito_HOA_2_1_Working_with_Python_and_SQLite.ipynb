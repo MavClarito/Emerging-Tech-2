{
  "cells": [
    {
      "cell_type": "markdown",
      "metadata": {
        "id": "view-in-github",
        "colab_type": "text"
      },
      "source": [
        "<a href=\"https://colab.research.google.com/github/MavClarito/Emerging-Tech-2/blob/main/Clarito_HOA_2_1_Working_with_Python_and_SQLite.ipynb\" target=\"_parent\"><img src=\"https://colab.research.google.com/assets/colab-badge.svg\" alt=\"Open In Colab\"/></a>"
      ]
    },
    {
      "cell_type": "markdown",
      "metadata": {
        "id": "AGZ3MkBqMwXC"
      },
      "source": [
        "Name: Clarito, Vincent Maverick D.\n",
        "\n",
        "Course and Section: CPE 019-CPE32S9\n",
        "\n",
        "Date of Submission: 01/31/2024\n",
        "\n",
        "Instructor: Engr. Roman Richard\n",
        "\n",
        "### Working with Python and SQLite\n",
        "\n",
        "Objectives:<br>\n",
        "Use the sqlite3 module to interact with a SQL database.<br>\n",
        "Access data stored in SQLite using Python.<br>\n",
        "Describe the difference in interacting with data stored as a CSV file versus in SQLite.<br>\n",
        "Describe the benefits of accessing data using a database compared to a CSV file.<br>\n",
        "\n",
        "\n",
        "#### Required Resources\n",
        "1 PC with Internet access<br>\n",
        "Jupyter notebook<br>\n",
        "\n",
        "#### SQL refresh\n",
        "Very brief introduction to relational databases (temporary): http://searchsqlserver.techtarget.com/definition/relational-database</li>\n",
        "More videos on relational databases: https://www.youtube.com/watch?v=jyju2P-7hPA&list=PLAwxTw4SYaPm4R6j_wzVOCV9fJaiQDYx4</li>\n",
        "Introduction to SQL: http://www.w3schools.com/sql/sql_intro.asp</li>\n",
        "Working with SQLite via the command-line: https://www.sqlite.org/cli.html"
      ]
    },
    {
      "cell_type": "markdown",
      "metadata": {
        "id": "wXVirPL3MwXE"
      },
      "source": [
        "#### Part 1: Python and SQL\n",
        "When you open a CSV in python, and assign it to a variable name, you are using your computers memory to save that variable. Accessing data from a database like SQL is not only more efficient, but also it allows you to subset and import only the parts of the data that you need.\n",
        "\n",
        "<b>The sqlite3 module</b><br>\n",
        "The sqlite3 module provides a straightforward interface for interacting with SQLite databases. A connection object is created using sqlite3.connect(); the connection must be closed at the end of the session with the .close() command. While the connection is open, any interactions with the database require you to make a cursor object with the .cursor() command. The cursor is then ready to perform all kinds of operations with .execute().\n",
        "\n",
        "<b>Step 1: Create a SQL connection to our SQLite database </b><br>\n",
        "Creating a new SQLite database is as simple as creating a connection using the sqlite3 module in the Python standard library. To establish a connection all you need to do is pass a file path to the connect(...) method in the sqlite3 module, and if the database represented by the file does not exists one will be created at that path."
      ]
    },
    {
      "cell_type": "code",
      "execution_count": null,
      "metadata": {
        "id": "Sp2jC6PLMwXF"
      },
      "outputs": [],
      "source": [
        "import sqlite3\n",
        "con = sqlite3.connect('sqlite.db')"
      ]
    },
    {
      "cell_type": "markdown",
      "metadata": {
        "id": "HneGUns4MwXG"
      },
      "source": [
        "You will find that in everyday database programming you will be constantly creating connections to your database, so it is a good idea to wrap this simple connection statement into a reusable generalized function."
      ]
    },
    {
      "cell_type": "code",
      "execution_count": null,
      "metadata": {
        "id": "1ViFWgkxMwXG"
      },
      "outputs": [],
      "source": [
        "import os\n",
        "import sqlite3\n",
        "\n",
        "# create a default path to connect to and create (if necessary) a database\n",
        "# called 'database.sqlite3' in the same directory as this script\n",
        "DEFAULT_PATH = os.path.join('sqlite.db')\n",
        "\n",
        "def db_connect(db_path=DEFAULT_PATH):\n",
        "    con = sqlite3.connect(db_path)\n",
        "    return con"
      ]
    },
    {
      "cell_type": "markdown",
      "metadata": {
        "id": "xEBUJX5RMwXG"
      },
      "source": [
        "<b>Step 2: Create a table on the SQLite database </b><br>\n",
        "The code below creates a table on the sqlite.db database. The cursor() command is needed to make a cursor object to interact with the created database. The cursor is then ready to perform all kinds of operations with .execute(). The execute() command performs a query that creates a table using the parameters as shown. The commit() command\n",
        "\n",
        "In order to create database tables you need to have an idea of the structure of the data you are interested in storing. There are many design considerations that go into defining the tables of a relational database. To aid in the discussion of SQLite database programming with Python, we will be working off the premise that a database needs to be created for a fictitious book store that has the below data already collected on book sales.\n",
        "\n",
        "<table style=\"width:75%\">\n",
        "  <tr>\n",
        "    <th>Customer</th>\n",
        "    <th>Date</th>\n",
        "    <th>Product</th>\n",
        "      <th>Price</th>\n",
        "  </tr>\n",
        "  <tr>\n",
        "    <td>Allan Turing</td>\n",
        "    <td>2/22/1944</td>\n",
        "    <td>Introduction to Combinatorics</td>\n",
        "    <td>7.99</td>\n",
        "  </tr>\n",
        "  <tr>\n",
        "    <td>Donald Knuth</td>\n",
        "    <td>7/3/1967</td>\n",
        "    <td>A Guide to Writing Short Stories</td>\n",
        "    <td>17.99</td>\n",
        "  </tr>\n",
        "    <td>Donald Knuth</td>\n",
        "    <td>7/3/1967</td>\n",
        "    <td>Data Structures and Algorithms</td>\n",
        "    <td>11.99</td>\n",
        "   <tr>\n",
        "    <td>Edgar Codd</td>\n",
        "    <td>1/12/1969</td>\n",
        "    <td>Advanced Set Theory</td>\n",
        "    <td>16.99</td>\n",
        "  </tr>\n",
        "</table>\n",
        "Upon inspecting this data, it is evident that it contains information about customers, products, and orders. A common pattern in database design for transactional systems of this type are to break the orders into two additional tables, orders and line items (sometimes referred to as order details) to achieve greater normalization.\n",
        "\n",
        "Enter the SQL for creating the customers and products tables follows:"
      ]
    },
    {
      "cell_type": "code",
      "execution_count": null,
      "metadata": {
        "colab": {
          "base_uri": "https://localhost:8080/"
        },
        "id": "MQN8de-ZMwXG",
        "outputId": "cfee0fe1-2c5f-42ba-f43c-b171fb6c1dbe"
      },
      "outputs": [
        {
          "output_type": "execute_result",
          "data": {
            "text/plain": [
              "<sqlite3.Cursor at 0x7a02e052e5c0>"
            ]
          },
          "metadata": {},
          "execution_count": 3
        }
      ],
      "source": [
        "con = db_connect() # connect to the database\n",
        "cur = con.cursor() # instantiate a cursor object\n",
        "customers_sql = \"\"\"CREATE TABLE customers(id integer PRIMARY KEY, first_name text NOT NULL, last_name text NOT NULL)\"\"\"\n",
        "cur.execute(customers_sql)\n",
        "products_sql = \"\"\"CREATE TABLE products (id integer PRIMARY KEY,name text NOT NULL,price real NOT NULL)\"\"\"\n",
        "cur.execute(products_sql)"
      ]
    },
    {
      "cell_type": "markdown",
      "metadata": {
        "id": "lfWXlWGTMwXG"
      },
      "source": [
        "The above code creates a connection object then uses it to instantiate a cursor object. The cursor object is used to execute SQL statements on the SQLite database.\n",
        "\n",
        "With the cursor created, we write the SQL to create the customers table, giving it a primary key along with a first and last name text field and assign it to a variable called customers_sql. Then we call the execute(...) method of the cursor object passing it the customers_sql variable. Similar steps were don for the products table.\n",
        "\n",
        "You can query the sqlite_master table, a built-in SQLite metadata table, to verify that the above commands were successful.\n",
        "\n",
        "To see all the tables in the currently connected database query the name column of the sqlite_master table where the type is equal to \"table\"."
      ]
    },
    {
      "cell_type": "code",
      "execution_count": null,
      "metadata": {
        "colab": {
          "base_uri": "https://localhost:8080/"
        },
        "id": "XvGdAcNHMwXH",
        "outputId": "dd95fe4e-28e5-44f7-fe09-710169ebb7c0"
      },
      "outputs": [
        {
          "output_type": "stream",
          "name": "stdout",
          "text": [
            "[('customers',), ('products',)]\n"
          ]
        }
      ],
      "source": [
        "cur.execute(\"SELECT name FROM sqlite_master WHERE type='table'\")\n",
        "\n",
        "print(cur.fetchall())\n"
      ]
    },
    {
      "cell_type": "markdown",
      "metadata": {
        "id": "kXKYFxIZMwXH"
      },
      "source": [
        "To get a look at the schema of the tables query the sql column of the same table where the type is still \"table\" and the name is equal to \"customers\" and/or \"products\"."
      ]
    },
    {
      "cell_type": "code",
      "execution_count": null,
      "metadata": {
        "colab": {
          "base_uri": "https://localhost:8080/"
        },
        "id": "9y2DrzyIMwXH",
        "outputId": "3d7d7a39-9bdb-4115-c7bf-008b304bfaaf"
      },
      "outputs": [
        {
          "output_type": "stream",
          "name": "stdout",
          "text": [
            "CREATE TABLE customers(id integer PRIMARY KEY, first_name text NOT NULL, last_name text NOT NULL)\n"
          ]
        }
      ],
      "source": [
        "cur.execute(\"\"\"SELECT sql FROM sqlite_master WHERE type='table'AND name='customers'\"\"\")\n",
        "print(cur.fetchone()[0])"
      ]
    },
    {
      "cell_type": "markdown",
      "metadata": {
        "id": "QjwKHjXtMwXH"
      },
      "source": [
        "The next table to define will be the orders table which associates customers to orders via a foreign key and the date of their purchase. Since SQLite does not support an actual date/time data type (or data class to be consistent with the SQLite vernacular) all dates will be represented as text values."
      ]
    },
    {
      "cell_type": "code",
      "execution_count": null,
      "metadata": {
        "colab": {
          "base_uri": "https://localhost:8080/"
        },
        "id": "PqYm5D5GMwXH",
        "outputId": "8ebdd7d0-76d3-4574-ab29-bb62c3aeb68d"
      },
      "outputs": [
        {
          "output_type": "execute_result",
          "data": {
            "text/plain": [
              "<sqlite3.Cursor at 0x7a02e052e5c0>"
            ]
          },
          "metadata": {},
          "execution_count": 6
        }
      ],
      "source": [
        "orders_sql = \"\"\"\n",
        "... CREATE TABLE orders (\n",
        "...     id integer PRIMARY KEY,\n",
        "...     date text NOT NULL,\n",
        "...     customer_id integer,\n",
        "...     FOREIGN KEY (customer_id) REFERENCES customers (id))\"\"\"\n",
        "cur.execute(orders_sql)"
      ]
    },
    {
      "cell_type": "markdown",
      "metadata": {
        "id": "hlOI1ay2MwXI"
      },
      "source": [
        "The final table to define will be the line items table which gives a detailed accounting of the products in each order."
      ]
    },
    {
      "cell_type": "code",
      "execution_count": null,
      "metadata": {
        "colab": {
          "base_uri": "https://localhost:8080/"
        },
        "id": "moX1VlrPMwXI",
        "outputId": "bcf6115c-82bb-4853-ae5a-682506bfbc11"
      },
      "outputs": [
        {
          "output_type": "execute_result",
          "data": {
            "text/plain": [
              "<sqlite3.Cursor at 0x7a02e052e5c0>"
            ]
          },
          "metadata": {},
          "execution_count": 7
        }
      ],
      "source": [
        "lineitems_sql = \"\"\"\n",
        "... CREATE TABLE lineitems (\n",
        "...     id integer PRIMARY KEY,\n",
        "...     quantity integer NOT NULL,\n",
        "...     total real NOT NULL,\n",
        "...     product_id integer,\n",
        "...     order_id integer,\n",
        "...     FOREIGN KEY (product_id) REFERENCES products (id),\n",
        "...     FOREIGN KEY (order_id) REFERENCES orders (id))\"\"\"\n",
        "cur.execute(lineitems_sql)"
      ]
    },
    {
      "cell_type": "markdown",
      "metadata": {
        "id": "h_GQx0JVMwXI"
      },
      "source": [
        "<b>Step 3: Loading the Data</b><br>\n",
        "In this section we will use INSERT to our sample data into the tables just created. A natural starting place would be to populate the products table first because without products we cannot have a sale and thus would not have the foreign keys to relate to the line items and orders. Looking at the sample data, we see that there are four products:\n",
        "\n",
        "1. Introduction to Combinatorics - 7.99\n",
        "2. A Guide to Writing Short Stories -17.99\n",
        "3. Data Structures and Algorithms - 11.99\n",
        "4. Advanced Set Theory - 16.99\n",
        "\n",
        "The workflow for executing INSERT statements is simply:\n",
        "\n",
        "1. Connect to the database<br>\n",
        "2. Create a cursor object<br>\n",
        "3. Write a parameterized insert SQL statement and store as a variable<br>\n",
        "4. Call the execute method on the cursor object passing it the sql variable and the values, as a tuple, to be inserted into the table<br><br>\n",
        "Given this general outline let us write some more code."
      ]
    },
    {
      "cell_type": "code",
      "execution_count": null,
      "metadata": {
        "id": "kwm3Uyx0MwXI"
      },
      "outputs": [],
      "source": [
        "con = db_connect()\n",
        "cur = con.cursor()\n",
        "product_sql = \"INSERT INTO products (name, price) VALUES (?, ?)\"\n",
        "cur.execute(product_sql, ('Introduction to Combinatorics', 7.99))\n",
        "cur.execute(product_sql, ('A Guide to Writing Short Stories', 17.99))\n",
        "cur.execute(product_sql, ('Data Structures and Algorithms', 11.99))\n",
        "cur.execute(product_sql, ('Advanced Set Theory', 16.99))\n",
        "con.commit()"
      ]
    },
    {
      "cell_type": "markdown",
      "metadata": {
        "id": "mp-yLMECMwXI"
      },
      "source": [
        "The insert statement follows the standard SQL syntax except for the ? bit. The ?'s are actually placeholders in what is known as a \"parameterized query\".\n",
        "\n",
        "Parameterized queries are an important feature of essentially all database interfaces to modern high level programming languages such as the sqlite3 module in Python. This type of query serves to improve the efficiency of queries that are repeated several times. Perhaps more important, they also sanitize inputs that take the place of the ? placeholders which are passed in during the call to the execute method of the cursor object to prevent nefarious inputs leading to SQL injection."
      ]
    },
    {
      "cell_type": "markdown",
      "metadata": {
        "id": "1z7ywgpIMwXI"
      },
      "source": [
        "To populate the remaining tables we are going to follow a slightly different pattern to change things up a bit. The workflow for each order, identified by a combination of customer first and last name and the purchase date, will be:\n",
        "\n",
        "1. Insert the new customer into the customers table and retrieve its primary key id\n",
        "2. Create an order entry based off the customer id and the purchase date then retrieve its primary key id\n",
        "3. For each product in the order determine its primary key id and create a line item entry associating the order and the product\n",
        "4. To make things simpler on ourselves let us do a quick look up of all our products. For now do not worry too much about the mechanics of the SELECT SQL statement as we will devote a section to it shortly."
      ]
    },
    {
      "cell_type": "code",
      "execution_count": null,
      "metadata": {
        "colab": {
          "base_uri": "https://localhost:8080/"
        },
        "id": "PAOWDdOKMwXJ",
        "outputId": "62eadec2-9115-4231-a4e9-91c168a84afb"
      },
      "outputs": [
        {
          "output_type": "stream",
          "name": "stdout",
          "text": [
            "Id   Product                            Price\n",
            "1    Introduction to Combinatorics       7.99\n",
            "2    A Guide to Writing Short Stories   17.99\n",
            "3    Data Structures and Algorithms     11.99\n",
            "4    Advanced Set Theory                16.99\n"
          ]
        }
      ],
      "source": [
        "cur.execute(\"SELECT id, name, price FROM products\")\n",
        "formatted_result = [f\"{id:<5}{name:<35}{price:>5}\" for id, name, price in cur.fetchall()]\n",
        "id, product, price = \"Id\", \"Product\", \"Price\"\n",
        "print('\\n'.join([f\"{id:<5}{product:<35}{price:>5}\"] + formatted_result))"
      ]
    },
    {
      "cell_type": "markdown",
      "metadata": {
        "id": "ZzDpnKTsMwXJ"
      },
      "source": [
        "The first order was placed on Feb 22, 1944 by Alan Turing who purchased Introduction to Combinatorics for $7.99.\n",
        "\n",
        "Start by making a new customer record for Mr. Turing then determine his primary key id by accessing the lastrowid field of the cursor object."
      ]
    },
    {
      "cell_type": "code",
      "execution_count": null,
      "metadata": {
        "colab": {
          "base_uri": "https://localhost:8080/"
        },
        "id": "aESGw_x5MwXJ",
        "outputId": "62daca17-2e96-4437-de44-a4432a74d60d"
      },
      "outputs": [
        {
          "output_type": "stream",
          "name": "stdout",
          "text": [
            "1\n"
          ]
        }
      ],
      "source": [
        "customer_sql = \"INSERT INTO customers (first_name, last_name) VALUES (?, ?)\"\n",
        "cur.execute(customer_sql, ('Alan', 'Turing'))\n",
        "customer_id = cur.lastrowid\n",
        "print(customer_id)\n",
        "con.commit()"
      ]
    },
    {
      "cell_type": "markdown",
      "metadata": {
        "id": "WQwysgLnMwXJ"
      },
      "source": [
        "<b style=\"color:red;\">Task 1: Insert 3 more records on the customers table</b>\n",
        "<br>\n",
        "Insert the following records:\n",
        "1. Donald Knuth\n",
        "2. Edgar Codd\n",
        "3. Martin Forest\n"
      ]
    },
    {
      "cell_type": "code",
      "execution_count": null,
      "metadata": {
        "colab": {
          "base_uri": "https://localhost:8080/"
        },
        "id": "PoPXkwnNMwXJ",
        "outputId": "ed2c4581-91ac-4a66-ea41-5feb9c9b6ffb"
      },
      "outputs": [
        {
          "output_type": "stream",
          "name": "stdout",
          "text": [
            "4\n"
          ]
        }
      ],
      "source": [
        "#code here\n",
        "Customers_name = \"INSERT INTO customers (first_name, last_name) VALUES (?, ?)\"\n",
        "cur.execute(Customers_name, ('Donald', 'Knuth'))\n",
        "cur.execute(Customers_name, ('Edgar', 'Codd'))\n",
        "cur.execute(Customers_name, ('Martin', 'Forest'))\n",
        "\n",
        "customer_id = cur.lastrowid\n",
        "print(customer_id)\n",
        "con.commit()"
      ]
    },
    {
      "cell_type": "code",
      "source": [
        "cur.execute(\"SELECT id, first_name, last_name FROM customers\")\n",
        "formatted_result = [f\"{id:<5}{name1:<35}{name2:<35}\" for id, name1, name2 in cur.fetchall()]\n",
        "id, names1, names2 = \"Id\", \"FirstName\", \"LastName\"\n",
        "print('\\n'.join([f\"{id:<5}{names1:<35}{names2:<35}\"] + formatted_result))"
      ],
      "metadata": {
        "colab": {
          "base_uri": "https://localhost:8080/"
        },
        "id": "XCZP5gD1M_J6",
        "outputId": "d634cad5-4381-4d84-832c-67090b8b3fa1"
      },
      "execution_count": null,
      "outputs": [
        {
          "output_type": "stream",
          "name": "stdout",
          "text": [
            "Id   FirstName                          LastName                           \n",
            "1    Alan                               Turing                             \n",
            "2    Donald                             Knuth                              \n",
            "3    Edgar                              Codd                               \n",
            "4    Martin                             Forest                             \n"
          ]
        }
      ]
    },
    {
      "cell_type": "markdown",
      "metadata": {
        "id": "eBOYqP03MwXJ"
      },
      "source": [
        "We can now create an order entry, collect the new order id value and associate it to a line item entry along with the product Mr. Turing ordered."
      ]
    },
    {
      "cell_type": "code",
      "execution_count": null,
      "metadata": {
        "colab": {
          "base_uri": "https://localhost:8080/"
        },
        "id": "l6Y_QJyuMwXJ",
        "outputId": "3e4ca726-9338-4bd4-f946-3714d7f1a909"
      },
      "outputs": [
        {
          "output_type": "stream",
          "name": "stdout",
          "text": [
            "1\n"
          ]
        }
      ],
      "source": [
        "order_sql = \"INSERT INTO orders (date, customer_id) VALUES (?, ?)\"\n",
        "date = \"1944-02-22\" # ISO formatted date\n",
        "cur.execute(order_sql, (date, customer_id))\n",
        "order_id = cur.lastrowid\n",
        "print(order_id)\n",
        "con.commit()"
      ]
    },
    {
      "cell_type": "markdown",
      "metadata": {
        "id": "FHIFZdHwMwXJ"
      },
      "source": [
        "<b style=\"color:red;\">Task 2: Insert 3 more records on the orders table</b>\n",
        "<br>\n",
        "Insert the following records:\n",
        "1. for Donald Knuth, date is 7/3/1967\n",
        "2. Edgar Codd, date is 1/12/1969\n",
        "3. Martin Forest, date is 1/15/2021"
      ]
    },
    {
      "cell_type": "code",
      "execution_count": null,
      "metadata": {
        "colab": {
          "base_uri": "https://localhost:8080/"
        },
        "id": "GrjYM8ONMwXK",
        "outputId": "079cdb34-d5a9-4bb1-ad54-6eb9d2846733"
      },
      "outputs": [
        {
          "output_type": "stream",
          "name": "stdout",
          "text": [
            "3\n"
          ]
        }
      ],
      "source": [
        "# code here\n",
        "order_sql = \"INSERT INTO orders (date, customer_id) VALUES (?, ?)\"\n",
        "date = \"1944-07-03\"\n",
        "customer_id = 'Donald Knuth'\n",
        "cur.execute(order_sql, (date, customer_id))\n",
        "date = \"1969-01-12\"\n",
        "customer_id = 'Edgar Codd'\n",
        "cur.execute(order_sql, (date, customer_id))\n",
        "date = \"2021-15-15\"\n",
        "customer_id = 'Martin Forest'\n",
        "cur.execute(order_sql, (date, customer_id))\n",
        "order_id = cur.lastrowid\n",
        "print(order_id)\n",
        "con.commit()\n",
        "con.rollback()"
      ]
    },
    {
      "cell_type": "code",
      "source": [
        "cur.execute(\"SELECT id, date, customer_id FROM orders\")\n",
        "formatted_result = [f\"{id:<5}{date1:<15}{name:<35}\" for id, date1, name in cur.fetchall()]\n",
        "order_id, date1, name = \"Order Id\", \"\\tDate\", \"Name\"\n",
        "print('\\n'.join([f\"{id:<5}{date1:<15}{name:<35}\"] + formatted_result))"
      ],
      "metadata": {
        "colab": {
          "base_uri": "https://localhost:8080/"
        },
        "id": "4NUNJoaDQbKL",
        "outputId": "7cee5452-2ea2-4776-c680-1012da61c449"
      },
      "execution_count": null,
      "outputs": [
        {
          "output_type": "stream",
          "name": "stdout",
          "text": [
            "Id   \tDate          Name                               \n",
            "1    1944-07-03     Donald Knuth                       \n",
            "2    1969-01-12     Edgar Codd                         \n",
            "3    2021-15-15     Martin Forest                      \n"
          ]
        }
      ]
    },
    {
      "cell_type": "code",
      "source": [
        "cur.execute(\"DELETE FROM orders\")\n",
        "customer_id = [(1)]\n",
        "con.commit()"
      ],
      "metadata": {
        "id": "8NgjUqxgVAFU"
      },
      "execution_count": null,
      "outputs": []
    },
    {
      "cell_type": "markdown",
      "metadata": {
        "id": "lyM5GESFMwXK"
      },
      "source": [
        "Each order can be inserted into the lineitems as shown below."
      ]
    },
    {
      "cell_type": "code",
      "execution_count": null,
      "metadata": {
        "id": "GSBHBBA6MwXK"
      },
      "outputs": [],
      "source": [
        "li_sql = \"\"\"INSERT INTO lineitems\n",
        "...       (order_id, product_id, quantity, total)\n",
        "...     VALUES (?, ?, ?, ?)\"\"\"\n",
        "product_id = 1\n",
        "cur.execute(li_sql, (4, 1, 1, 7.99))\n",
        "con.commit()"
      ]
    },
    {
      "cell_type": "markdown",
      "metadata": {
        "id": "WCnMffyGMwXK"
      },
      "source": [
        "The remaining records are loaded exactly the same except for the order made to Donald Knuth, which will receive two line item entries."
      ]
    },
    {
      "cell_type": "markdown",
      "metadata": {
        "id": "IUw1GeHgMwXK"
      },
      "source": [
        "<b style=\"color:red;\">Task 3: Insert 3 more records on the lineitems</b>\n",
        "<br>\n",
        "Insert the following records:\n",
        "1. for Donald Knuth, insert (order_id, 2, 2, 17.99)\n",
        "2. Edgar Codd, insert (order_id, 3, 3, 11.99)\n",
        "3. Martin Forest, insert (order_id, 4, 4, 10.99)"
      ]
    },
    {
      "cell_type": "code",
      "execution_count": null,
      "metadata": {
        "id": "aUQSgBYBMwXK"
      },
      "outputs": [],
      "source": [
        "#code here\n",
        "product_id = 2\n",
        "cur.execute(li_sql, (4, 2, 2, 17.99))\n",
        "product_id = 3\n",
        "cur.execute(li_sql, (4, 3, 3, 11.99))\n",
        "product_id = 4\n",
        "cur.execute(li_sql, (4, 4, 4, 10.99))\n",
        "con.commit()"
      ]
    },
    {
      "cell_type": "code",
      "source": [
        "cur.execute(\"SELECT * FROM lineitems\")\n",
        "results = cur.fetchall()\n",
        "\n",
        "for row in results:\n",
        "  print(row)"
      ],
      "metadata": {
        "colab": {
          "base_uri": "https://localhost:8080/"
        },
        "id": "YVZwppQdXxfZ",
        "outputId": "b3378139-78c1-4a26-9b1b-dc8e085f0662"
      },
      "execution_count": null,
      "outputs": [
        {
          "output_type": "stream",
          "name": "stdout",
          "text": [
            "(1, 1, 7.99, 1, 4)\n",
            "(2, 2, 17.99, 2, 4)\n",
            "(3, 3, 11.99, 3, 4)\n",
            "(4, 4, 10.99, 4, 4)\n"
          ]
        }
      ]
    },
    {
      "cell_type": "code",
      "source": [
        "cur.execute(\"DELETE FROM lineitems\")\n",
        "customer_id = [(2,), (3,), (4,), (5,)]\n",
        "con.commit()"
      ],
      "metadata": {
        "id": "68vpF9_tYyiJ"
      },
      "execution_count": null,
      "outputs": []
    },
    {
      "cell_type": "markdown",
      "metadata": {
        "id": "f3d58WF-MwXL"
      },
      "source": [
        "<b>Step 3: Querying the Database</b><br>\n",
        "\n",
        "Generally the most common action performed on a database is a retrieval of some of the data stored in it via a SELECT statement. For this section, we will be demonstrating how to use the sqlite3 interface to perform simple SELECT queries.\n",
        "\n",
        "To perform a basic multirow query of the customers table you pass a SELECT statement to the execute(...) method of the cursor object. After this you can iterate over the results of the query by calling the fetchall() method of the same cursor object."
      ]
    },
    {
      "cell_type": "code",
      "execution_count": null,
      "metadata": {
        "id": "KKTWkOY5MwXL"
      },
      "outputs": [],
      "source": [
        "cur.execute(\"SELECT * FROM customers\")\n",
        "results = cur.fetchall()\n",
        "for row in results:\n",
        "    print(row)"
      ]
    },
    {
      "cell_type": "code",
      "source": [
        "cur.execute(\"DELETE FROM customers\")\n",
        "customer_id = [(2)]\n",
        "con.commit()"
      ],
      "metadata": {
        "id": "aFW4sgXyZ0wQ"
      },
      "execution_count": null,
      "outputs": []
    },
    {
      "cell_type": "markdown",
      "metadata": {
        "id": "tlLYyoASMwXL"
      },
      "source": [
        "Lets say you would like to instead just retrieve one record from the database. You can do this by writing a more specific query, say for Donald Knuth's id of 2, and following that up by calling fetchone() method of the cursor object."
      ]
    },
    {
      "cell_type": "code",
      "execution_count": null,
      "metadata": {
        "colab": {
          "base_uri": "https://localhost:8080/"
        },
        "id": "8e8Bdp2EMwXL",
        "outputId": "a0a10c0f-551e-4dd2-9b5b-7082ad5bb474"
      },
      "outputs": [
        {
          "output_type": "stream",
          "name": "stdout",
          "text": [
            "(2, 'Donald', 'Knuth')\n"
          ]
        }
      ],
      "source": [
        "cur.execute(\"SELECT id, first_name, last_name FROM customers WHERE id = 2\")\n",
        "result = cur.fetchone()\n",
        "print(result)"
      ]
    },
    {
      "cell_type": "markdown",
      "metadata": {
        "id": "-1jI3ACzMwXL"
      },
      "source": [
        "See how the individual row of each result is in the form of a tuple? Well while tuples are a very useful Pythonic data structure for some programming use cases many people find them a bit hindering when it comes to the task of data retrieval. It just so happens that there is a way to represent the data in a way that is perhaps more flexible to some. All you need to do is set the row_factory method of the connection object to something more suitable such as sqlite3.Row. This will give you the ability to access the individual items of a row by position or keyword value."
      ]
    },
    {
      "cell_type": "code",
      "execution_count": null,
      "metadata": {
        "colab": {
          "base_uri": "https://localhost:8080/"
        },
        "id": "HJWc1ATJMwXL",
        "outputId": "0a9003d9-2a26-41e3-a8f5-1904eab75d40"
      },
      "outputs": [
        {
          "output_type": "stream",
          "name": "stdout",
          "text": [
            "Customer: Alan Turing's id is 1\n"
          ]
        }
      ],
      "source": [
        "con.row_factory = sqlite3.Row\n",
        "cur = con.cursor()\n",
        "cur.execute(\"SELECT id, first_name, last_name FROM customers WHERE id = 1\")\n",
        "result = cur.fetchone()\n",
        "id, first_name, last_name = result['id'], result['first_name'], result['last_name']\n",
        "print(f\"Customer: {first_name} {last_name}'s id is {id}\")"
      ]
    },
    {
      "cell_type": "markdown",
      "metadata": {
        "id": "ojb83MLkMwXZ"
      },
      "source": [
        "<b style=\"color:red;\">Supplementary Activity:</b>\n",
        "1. Create a database and call it user.db\n",
        "2. Create a table named \"users\" and insert the following: (id int, name TEXT, email TEXT)\n",
        "3. Insert the following data: <br>\n",
        "(1, 'Jonathan','jvtaylar@gmail.com'),<br>\n",
        "(2, 'John','jonathan@gmail.com'),<br>\n",
        "(3,'cpeEncoders','encoders@gmail.com')<br>\n",
        "4. Select all data from users.\n",
        "5. Select id = 3 from users.\n",
        "6. Update user id = 3 name and set it to \"James.\"\n",
        "7. Insert the following data: (4, 'Cynthia','cynthia@gmail.com')\n",
        "8. Delete id = 4 from users.\n",
        "9. Display all contents in a formatted way."
      ]
    },
    {
      "cell_type": "markdown",
      "source": [
        "1. Create a database and call it user.db"
      ],
      "metadata": {
        "id": "WpvJKOxPaTyw"
      }
    },
    {
      "cell_type": "code",
      "source": [
        "import sqlite3\n",
        "import os\n",
        "import sqlite3\n",
        "\n",
        "con = sqlite3.connect('user.db')\n",
        "DEFAULT_PATH = os.path.join('user.db')\n",
        "def db_connect(db_path=DEFAULT_PATH):\n",
        "  con = sqlite3.connect(db_path)\n",
        "  return con"
      ],
      "metadata": {
        "id": "qDqxeAOuaBlI"
      },
      "execution_count": null,
      "outputs": []
    },
    {
      "cell_type": "markdown",
      "source": [
        "2. Create a table named \"users\" and insert the following: (id int, name TEXT, email TEXT)"
      ],
      "metadata": {
        "id": "GQOgMYm1aWEo"
      }
    },
    {
      "cell_type": "code",
      "source": [
        "con = db_connect()\n",
        "cur = con.cursor()\n",
        "customers_sql = \"\"\"CREATE TABLE users(id integer PRIMARY KEY, name text NOT NULL, email text NOT NULL)\"\"\"\n",
        "cur.execute(customers_sql)\n"
      ],
      "metadata": {
        "colab": {
          "base_uri": "https://localhost:8080/"
        },
        "id": "8u4UmLZEabxH",
        "outputId": "2e7c918f-7353-4f27-88c9-00268dba82ae"
      },
      "execution_count": null,
      "outputs": [
        {
          "output_type": "execute_result",
          "data": {
            "text/plain": [
              "<sqlite3.Cursor at 0x7a02aee441c0>"
            ]
          },
          "metadata": {},
          "execution_count": 74
        }
      ]
    },
    {
      "cell_type": "code",
      "source": [
        "cur.execute(\"SELECT name FROM sqlite_master WHERE type='table'\")\n",
        "print(cur.fetchall())"
      ],
      "metadata": {
        "colab": {
          "base_uri": "https://localhost:8080/"
        },
        "id": "kFmHabxPamLB",
        "outputId": "7f3037be-c8ef-49e6-94e3-7732944de968"
      },
      "execution_count": null,
      "outputs": [
        {
          "output_type": "stream",
          "name": "stdout",
          "text": [
            "[('users',)]\n"
          ]
        }
      ]
    },
    {
      "cell_type": "markdown",
      "source": [
        "3. Insert the following data:\n",
        "\n",
        "(1, 'Jonathan','jvtaylar@gmail.com'),\n",
        "\n",
        "(2, 'John','jonathan@gmail.com'),\n",
        "\n",
        "(3,'cpeEncoders','encoders@gmail.com')"
      ],
      "metadata": {
        "id": "EIvK_DajaYpP"
      }
    },
    {
      "cell_type": "code",
      "source": [
        "customer_sql = \"INSERT INTO users (name, email) VALUES (?, ?)\"\n",
        "cur.execute(customer_sql, ('Jonathan', 'jvtaylar@gmail.com'))\n",
        "cur.execute(customer_sql, ('John', 'jonathan@gmail.com'))\n",
        "cur.execute(customer_sql, ('cpeEncoders', 'encoders@gmail.com'))\n",
        "customer_id = cur.lastrowid\n",
        "print(customer_id)\n",
        "con.commit()"
      ],
      "metadata": {
        "colab": {
          "base_uri": "https://localhost:8080/"
        },
        "id": "Cjn4iFHiavXY",
        "outputId": "23913a42-4eec-4e78-aa25-d191fcf25f4a"
      },
      "execution_count": null,
      "outputs": [
        {
          "output_type": "stream",
          "name": "stdout",
          "text": [
            "3\n"
          ]
        }
      ]
    },
    {
      "cell_type": "markdown",
      "source": [
        "4. Select all data from users."
      ],
      "metadata": {
        "id": "eNX10NWfbIsg"
      }
    },
    {
      "cell_type": "code",
      "source": [
        "cur.execute(\"SELECT * FROM users\")\n",
        "results = cur.fetchall()\n",
        "for row in results:\n",
        "  print(row)"
      ],
      "metadata": {
        "colab": {
          "base_uri": "https://localhost:8080/"
        },
        "id": "e4Hit7chabVY",
        "outputId": "6aafb71d-c3f0-435d-a106-5017b4eb63ad"
      },
      "execution_count": null,
      "outputs": [
        {
          "output_type": "stream",
          "name": "stdout",
          "text": [
            "(1, 'Jonathan', 'jvtaylar@gmail.com')\n",
            "(2, 'John', 'jonathan@gmail.com')\n",
            "(3, 'cpeEncoders', 'encoders@gmail.com')\n"
          ]
        }
      ]
    },
    {
      "cell_type": "markdown",
      "source": [
        "5. Select id = 3 from users."
      ],
      "metadata": {
        "id": "SICYhMeQbOM6"
      }
    },
    {
      "cell_type": "code",
      "source": [
        "cur.execute(\"UPDATE users SET name = 'James' WHERE id =3\")\n",
        "cur.execute(\"SELECT name, email FROM users WHERE id = 3\")\n",
        "results = cur.fetchall()\n",
        "\n",
        "for row in results:\n",
        "  print(row)"
      ],
      "metadata": {
        "colab": {
          "base_uri": "https://localhost:8080/"
        },
        "id": "OmMmBy2QbNNJ",
        "outputId": "3f83e117-eca9-4705-fd1a-5191cfb74e41"
      },
      "execution_count": null,
      "outputs": [
        {
          "output_type": "stream",
          "name": "stdout",
          "text": [
            "('James', 'encoders@gmail.com')\n"
          ]
        }
      ]
    },
    {
      "cell_type": "markdown",
      "source": [
        "6. Update user id = 3 name and set it to \"James.\""
      ],
      "metadata": {
        "id": "I8IhL6YvbRIq"
      }
    },
    {
      "cell_type": "code",
      "source": [
        "cur.execute(\"UPDATE users SET name = 'James' WHERE id =3\")\n",
        "cur.execute(\"SELECT name, email FROM users WHERE id = 3\")\n",
        "results = cur.fetchall()\n",
        "\n",
        "for row in results:\n",
        "  print(row)"
      ],
      "metadata": {
        "colab": {
          "base_uri": "https://localhost:8080/"
        },
        "id": "-UEdGBZUbUrY",
        "outputId": "78434351-3fd1-4e72-cd84-ed4319d7bf00"
      },
      "execution_count": null,
      "outputs": [
        {
          "output_type": "stream",
          "name": "stdout",
          "text": [
            "('James', 'encoders@gmail.com')\n"
          ]
        }
      ]
    },
    {
      "cell_type": "markdown",
      "source": [
        "7. Insert the following data: (4, 'Cynthia','cynthia@gmail.com')"
      ],
      "metadata": {
        "id": "jtAo90fBbY-S"
      }
    },
    {
      "cell_type": "code",
      "source": [
        "customer_sql = \"INSERT INTO users (name, email) VALUES (?, ?)\"\n",
        "cur.execute(customer_sql, ('Cynthia', 'cynthia@gmail.com'))\n",
        "customer_id = cur.lastrowid\n",
        "print(customer_id)\n",
        "con.commit()"
      ],
      "metadata": {
        "colab": {
          "base_uri": "https://localhost:8080/"
        },
        "id": "SJfBFKGgbZo5",
        "outputId": "c4283a03-bdb7-4eab-9604-17ecdd4ae136"
      },
      "execution_count": null,
      "outputs": [
        {
          "output_type": "stream",
          "name": "stdout",
          "text": [
            "4\n"
          ]
        }
      ]
    },
    {
      "cell_type": "code",
      "source": [
        "cur.execute(\"SELECT name, email FROM users WHERE id = 4\")\n",
        "results = cur.fetchall()\n",
        "for row in results:\n",
        "  print(row)"
      ],
      "metadata": {
        "colab": {
          "base_uri": "https://localhost:8080/"
        },
        "id": "4DTLNG4fbgX5",
        "outputId": "20f859e7-0386-440f-90f9-0eeca2f1ffe4"
      },
      "execution_count": null,
      "outputs": [
        {
          "output_type": "stream",
          "name": "stdout",
          "text": [
            "('Cynthia', 'cynthia@gmail.com')\n"
          ]
        }
      ]
    },
    {
      "cell_type": "markdown",
      "source": [
        "8. Delete id = 4 from users."
      ],
      "metadata": {
        "id": "LytS_GOLbmbK"
      }
    },
    {
      "cell_type": "code",
      "source": [
        "cur.execute(\"DELETE FROM users WHERE id = 4\")\n",
        "results = cur.fetchall()\n",
        "for row in results:\n",
        "  cur.execute(\"SELECT * FROM users\")\n",
        "\n",
        "print(row)"
      ],
      "metadata": {
        "colab": {
          "base_uri": "https://localhost:8080/"
        },
        "id": "pNqhZdIoblKo",
        "outputId": "867019a0-fc8b-4593-f05f-0e049ad116d3"
      },
      "execution_count": null,
      "outputs": [
        {
          "output_type": "stream",
          "name": "stdout",
          "text": [
            "('Cynthia', 'cynthia@gmail.com')\n"
          ]
        }
      ]
    },
    {
      "cell_type": "markdown",
      "source": [
        "9. Display all contents in a formatted way."
      ],
      "metadata": {
        "id": "HPlnfL4zb3mJ"
      }
    },
    {
      "cell_type": "code",
      "source": [
        "cur.execute(\"SELECT id, name, email FROM users\")\n",
        "formatted_result = [f\"{id:<5}{name:<35}{email:<35}\" for id, name, email in cur.fetchall()]\n",
        "id, name, email = \"ID\", \"Name\", \"Email\"\n",
        "print('\\n'.join([f\"{id:<5}{name:<35}{email:<35}\"] + formatted_result))"
      ],
      "metadata": {
        "colab": {
          "base_uri": "https://localhost:8080/"
        },
        "id": "uj53CYxxb5dN",
        "outputId": "d44f4568-a9d2-4a98-be56-dcd45c2e064f"
      },
      "execution_count": null,
      "outputs": [
        {
          "output_type": "stream",
          "name": "stdout",
          "text": [
            "ID   Name                               Email                              \n",
            "1    Jonathan                           jvtaylar@gmail.com                 \n",
            "2    John                               jonathan@gmail.com                 \n",
            "3    James                              encoders@gmail.com                 \n"
          ]
        }
      ]
    },
    {
      "cell_type": "markdown",
      "metadata": {
        "id": "eTrUUcKmMwXa"
      },
      "source": [
        "<b style=\"color:red;\">Conclusions/Observations:</b>\n"
      ]
    },
    {
      "cell_type": "markdown",
      "source": [
        "In this activity this made me recall some of my knowledge about SQL. This was a refreshener and also gave me more in-depth knowledge and experience about it using python."
      ],
      "metadata": {
        "id": "XiKTpz0ybvBJ"
      }
    }
  ],
  "metadata": {
    "kernelspec": {
      "display_name": "Python 3",
      "language": "python",
      "name": "python3"
    },
    "language_info": {
      "codemirror_mode": {
        "name": "ipython",
        "version": 3
      },
      "file_extension": ".py",
      "mimetype": "text/x-python",
      "name": "python",
      "nbconvert_exporter": "python",
      "pygments_lexer": "ipython3",
      "version": "3.7.7"
    },
    "colab": {
      "provenance": [],
      "include_colab_link": true
    }
  },
  "nbformat": 4,
  "nbformat_minor": 0
}